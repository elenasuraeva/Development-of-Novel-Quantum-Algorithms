{
  "cells": [
    {
      "cell_type": "code",
      "source": [
        "from classiq import *\n",
        "from classiq.execution import ExecutionPreferences\n",
        "from math import pi, log2, ceil\n",
        "from random import randint, choice\n",
        "from sympy import isprime\n",
        "\n",
        "authenticate()"
      ],
      "metadata": {
        "id": "1c-q4oWGRVhu"
      },
      "execution_count": 6,
      "outputs": []
    },
    {
      "cell_type": "markdown",
      "source": [
        "# First round"
      ],
      "metadata": {
        "id": "IA7nv23hInOo"
      }
    },
    {
      "cell_type": "code",
      "source": [
        "# Generate random\n",
        "#max_number = 32\n",
        "#primes = [i for i in range(max_number) if isprime(i) and i%4==3]\n",
        "#p = choice(primes)\n",
        "#q = choice(primes)\n",
        "#N = p*q\n",
        "#n = ceil(log2(max(p,q))) # length of x\n",
        "#m = 2*n # length of y, can be reduced to n+O(1)\n",
        "\n",
        "# or set prime numbers\n",
        "p = 3 # first prime number for toy problem\n",
        "q = 7 # second prime number for toy problem\n",
        "N = p*q\n",
        "n = 3\n",
        "m = 5"
      ],
      "metadata": {
        "id": "kOfPe6Gvnv0E"
      },
      "execution_count": 7,
      "outputs": []
    },
    {
      "cell_type": "code",
      "source": [
        "@qfunc\n",
        "def mcp(ctrl0: QBit, ctrl1: QBit, phi: CReal, trgt: QBit):\n",
        "    ctrl_arr = QArray(\"ctrl_arr\")\n",
        "    bind([ctrl0, ctrl1], ctrl_arr)\n",
        "    control(ctrl=ctrl_arr, stmt_block=lambda: PHASE(phi, trgt))\n",
        "    bind(ctrl_arr, [ctrl0, ctrl1])\n",
        "\n",
        "@qfunc\n",
        "def x2modN_phase(x: QArray[QBit], y: QArray[QBit]):\n",
        "    for k in range(m):\n",
        "      for i in range(n):\n",
        "        phi = 2*pi*2**(i+i+k)/N\n",
        "        control(ctrl=x[i], stmt_block=lambda:PHASE(phi,y[k]))\n",
        "    for k in range(m):\n",
        "      for i in range(n-1):\n",
        "        for j in range(i+1,n):\n",
        "          phi = 2*2*pi*2**(i+j+k)/N\n",
        "          mcp(x[i], x[j], phi, y[k])\n",
        "\n",
        "@qfunc\n",
        "def main(x: Output[QArray[QBit]], y: Output[QArray[QBit]]):\n",
        "    allocate(n, x)\n",
        "    allocate(m, y)\n",
        "    hadamard_transform(x)\n",
        "    hadamard_transform(y)\n",
        "    x2modN_phase(x, y)\n",
        "    invert(stmt_block=lambda: qft(y))\n",
        "\n",
        "qmod_1 = create_model(main)\n",
        "write_qmod(qmod_1, \"x2modN\")\n",
        "qprog_1 = synthesize(qmod_1)\n",
        "show(qprog_1)\n",
        "job_1 = execute(qprog_1)\n",
        "results_1 = job_1.result()\n",
        "counts_1 = sorted(results_1[0].value.counts.items(), key=lambda item: item[1], reverse=True)[:2**n]\n",
        "for i in range(2**n):\n",
        "  x = int(counts_1[i][0][-n:], 2)\n",
        "  y = round(int(counts_1[i][0][:m], 2)*N/(2**m))\n",
        "  print('Accept   ' if x**2%N==y else \"Reject   \", end = \"\")\n",
        "  print(x, 'squared modulo', N, 'is', y)"
      ],
      "metadata": {
        "id": "so8k8M9L5I27"
      },
      "execution_count": null,
      "outputs": []
    },
    {
      "cell_type": "markdown",
      "source": [
        "# Final round"
      ],
      "metadata": {
        "id": "fjAsvFKAI64b"
      }
    },
    {
      "cell_type": "code",
      "source": [
        "# Choose two input states\n",
        "x0 = '010'\n",
        "x1 = '101'\n",
        "n = len(x0)\n",
        "\n",
        "# Generate random variables\n",
        "bitstring = format(randint(0,2**n-1),'b').zfill(n)\n",
        "angle_sign = randint(0,1)"
      ],
      "metadata": {
        "id": "t5D4V0UOVhD0"
      },
      "execution_count": 14,
      "outputs": []
    },
    {
      "cell_type": "code",
      "source": [
        "@qfunc\n",
        "def mcx(ctrl0: QBit, ctrl1: QBit, trgt: QBit):\n",
        "    ctrl_arr = QArray(\"ctrl_arr\")\n",
        "    bind([ctrl0, ctrl1], ctrl_arr)\n",
        "    control(ctrl=ctrl_arr, stmt_block=lambda: X(trgt))\n",
        "    bind(ctrl_arr, [ctrl0, ctrl1])\n",
        "\n",
        "@qfunc\n",
        "def inner_product(b: QBit, r: QArray[QBit], x: QArray[QBit]):\n",
        "    for i in range(n):\n",
        "      mcx(r[i], x[i], b)\n",
        "\n",
        "@qfunc\n",
        "def main(b: Output[QBit], r: Output[QArray[QBit]], x: Output[QArray[QBit]]):\n",
        "    allocate(n, r)\n",
        "    inplace_prepare_int(int(bitstring,2), r)\n",
        "    prepare_ghz_state(n, x)\n",
        "    X(x[1])\n",
        "    allocate(1, b)\n",
        "    inner_product(b, r, x)\n",
        "    hadamard_transform(x)\n",
        "    RY((-1)**angle_sign*pi/4, b)\n",
        "\n",
        "def dot_product(u:str, v:str):\n",
        "    s=0\n",
        "    for i in range(len(u)):\n",
        "      s += int(u[i])*int(v[i])\n",
        "    return s%2\n",
        "\n",
        "qmod_2 = create_model(main)\n",
        "write_qmod(qmod_2, \"bell_test\")\n",
        "qmod_2_ep = set_execution_preferences(qmod_2, ExecutionPreferences(num_shots=10000))\n",
        "qprog_2 = synthesize(qmod_2_ep)\n",
        "show(qprog_2)\n",
        "job_2 = execute(qprog_2)\n",
        "results_2 = job_2.result()\n",
        "counts_2 = results_2[0].value.counts\n",
        "\n",
        "r_x0 = dot_product(bitstring, x0)\n",
        "r_x1 = dot_product(bitstring, x1)\n",
        "delta_r = abs(r_x0-r_x1)\n",
        "d = [format(i,'b').zfill(n) for i in range(2**n) if dot_product(format(i,'b').zfill(n),'010')==dot_product(format(i,'b').zfill(n),'101') or delta_r==1]\n",
        "for i in range(len(d)):\n",
        "  if delta_r == 0:\n",
        "    exp = r_x0\n",
        "  else:\n",
        "    d_x0 = dot_product(d[i], x0)\n",
        "    d_x1 = dot_product(d[i], x1)\n",
        "    delta_d = abs(d_x0-d_x1)\n",
        "    exp = (delta_d+angle_sign+1)%2\n",
        "  w = str(d[i])+bitstring+str(exp)\n",
        "  l = str(d[i])+bitstring+str(abs(exp-1))\n",
        "  prob = counts_2[w]/(counts_2[w]+counts_2[l])\n",
        "  print('Accept   ' if prob>0.8 else 'Reject   ', f\"{prob:.2%}\")"
      ],
      "metadata": {
        "id": "iWHddmT79LpB"
      },
      "execution_count": null,
      "outputs": []
    },
    {
      "cell_type": "code",
      "source": [],
      "metadata": {
        "id": "ZAfnW5HonJXl"
      },
      "execution_count": null,
      "outputs": []
    }
  ],
  "metadata": {
    "colab": {
      "provenance": []
    },
    "kernelspec": {
      "display_name": "Python 3",
      "name": "python3"
    }
  },
  "nbformat": 4,
  "nbformat_minor": 0
}